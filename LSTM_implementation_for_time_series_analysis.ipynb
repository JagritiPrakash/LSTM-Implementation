{
  "nbformat": 4,
  "nbformat_minor": 0,
  "metadata": {
    "colab": {
      "name": "LSTM-implementation-for-time-series-analysis.ipynb",
      "provenance": [],
      "collapsed_sections": [],
      "authorship_tag": "ABX9TyPLj4aOS9yXV4l8e76B8pWv",
      "include_colab_link": true
    },
    "kernelspec": {
      "name": "python3",
      "display_name": "Python 3"
    }
  },
  "cells": [
    {
      "cell_type": "markdown",
      "metadata": {
        "id": "view-in-github",
        "colab_type": "text"
      },
      "source": [
        "<a href=\"https://colab.research.google.com/github/JagritiPrakash/LSTM-Implementation/blob/master/LSTM_implementation_for_time_series_analysis.ipynb\" target=\"_parent\"><img src=\"https://colab.research.google.com/assets/colab-badge.svg\" alt=\"Open In Colab\"/></a>"
      ]
    },
    {
      "cell_type": "markdown",
      "metadata": {
        "id": "oM1dlOwCckHu",
        "colab_type": "text"
      },
      "source": [
        "Time Series Analysis with LSTM.\n",
        "We will see how we can perform time series analysis with the help of a recurrent neural network. We will be predicting the future stock prices of the Apple Company (AAPL), based on its stock prices of the past 5 years."
      ]
    },
    {
      "cell_type": "markdown",
      "metadata": {
        "id": "KX1EQDRhVGnK",
        "colab_type": "text"
      },
      "source": [
        "At first, we import the necessary libraries"
      ]
    },
    {
      "cell_type": "code",
      "metadata": {
        "id": "45ug-J1QfBFw",
        "colab_type": "code",
        "colab": {}
      },
      "source": [
        "import numpy as np\n",
        "import matplotlib.pyplot as plt\n",
        "import pandas as pd\n"
      ],
      "execution_count": null,
      "outputs": []
    },
    {
      "cell_type": "markdown",
      "metadata": {
        "id": "CJd5mWAPVRZ4",
        "colab_type": "text"
      },
      "source": [
        "For training our algorithm, we will be using the Apple stock prices from 1st January 2015 to 31 December 2019. We read the csv file using the pd.read_csv command of the pandas library."
      ]
    },
    {
      "cell_type": "code",
      "metadata": {
        "id": "0a5XaYy3flpb",
        "colab_type": "code",
        "colab": {}
      },
      "source": [
        "apple_complete_train = pd.read_csv('AAPL-3.csv')"
      ],
      "execution_count": null,
      "outputs": []
    },
    {
      "cell_type": "markdown",
      "metadata": {
        "id": "jK0eOshSV1YX",
        "colab_type": "text"
      },
      "source": [
        "The Apple stock price training file contains seven columns: Date, Open, High, Low, Close, Adj Close and Volume. Here, we will only be predicting the opening stock price, therefore we are not interested in the rest of the columns."
      ]
    },
    {
      "cell_type": "code",
      "metadata": {
        "id": "NuwSXyuzfpFV",
        "colab_type": "code",
        "colab": {}
      },
      "source": [
        "apple_training_processed = apple_complete_train.iloc[:, 1:2].values"
      ],
      "execution_count": null,
      "outputs": []
    },
    {
      "cell_type": "markdown",
      "metadata": {
        "id": "KUZK67thWjV6",
        "colab_type": "text"
      },
      "source": [
        "We will use MinMaxScaler class from the sklearn.preprocessing library to scale our data between 0 and 1. The feature_range parameter is used to specify the range of the scaled data. "
      ]
    },
    {
      "cell_type": "code",
      "metadata": {
        "id": "dXrKAVj2jEvW",
        "colab_type": "code",
        "colab": {
          "base_uri": "https://localhost:8080/",
          "height": 390
        },
        "outputId": "6ac05dcb-4465-410e-8c1a-ee60fb71a2b1"
      },
      "source": [
        "plt.figure(figsize=(10,6))\n",
        "plt.plot(apple_training_processed, color='blue', label='Open')\n",
        "plt.xlabel('Date')\n",
        "plt.ylabel('Apple Stock Price')\n",
        "plt.legend()\n",
        "plt.show()"
      ],
      "execution_count": null,
      "outputs": [
        {
          "output_type": "display_data",
          "data": {
            "image/png": "[encoded data removed]",
            "text/plain": [
              "<Figure size 720x432 with 1 Axes>"
            ]
          },
          "metadata": {
            "tags": [],
            "needs_background": "light"
          }
        }
      ]
    },
    {
      "cell_type": "markdown",
      "metadata": {
        "id": "5N4ehU4vkIJB",
        "colab_type": "text"
      },
      "source": [
        "We can see that the trend is highly non-linear and it is very difficult to capture the trend using this information. This is where the power of LSTM can be utilized. "
      ]
    },
    {
      "cell_type": "code",
      "metadata": {
        "id": "dLiZQFyFgH80",
        "colab_type": "code",
        "colab": {}
      },
      "source": [
        "from sklearn.preprocessing import MinMaxScaler\n",
        "scaler = MinMaxScaler(feature_range = (0, 1))\n",
        "apple_training_scaled = scaler.fit_transform(apple_training_processed)"
      ],
      "execution_count": null,
      "outputs": []
    },
    {
      "cell_type": "markdown",
      "metadata": {
        "id": "uyj4KR1eWsU_",
        "colab_type": "text"
      },
      "source": [
        "Converting training data into right shape"
      ]
    },
    {
      "cell_type": "code",
      "metadata": {
        "id": "vVPluMfUgPfa",
        "colab_type": "code",
        "colab": {}
      },
      "source": [
        "features_set = []\n",
        "labels = []\n",
        "for i in range(60, 1257):\n",
        "    features_set.append(apple_training_scaled[i-60:i, 0])\n",
        "    labels.append(apple_training_scaled[i, 0])"
      ],
      "execution_count": null,
      "outputs": []
    },
    {
      "cell_type": "markdown",
      "metadata": {
        "id": "UozFKZHxW5ga",
        "colab_type": "text"
      },
      "source": [
        "We need to convert both the feature_set and the labels list to the numpy array before we can use it for training. "
      ]
    },
    {
      "cell_type": "code",
      "metadata": {
        "id": "cvGcLd9zlGt5",
        "colab_type": "code",
        "colab": {}
      },
      "source": [
        "features_set, labels = np.array(features_set), np.array(labels)"
      ],
      "execution_count": null,
      "outputs": []
    },
    {
      "cell_type": "markdown",
      "metadata": {
        "id": "LmnDlKaTW7SO",
        "colab_type": "text"
      },
      "source": [
        "In order to train LSTM on our data, we need to convert our data into the shape accepted by the LSTM. We need to convert our data into three-dimensional format."
      ]
    },
    {
      "cell_type": "code",
      "metadata": {
        "id": "uNleBHtTlmsw",
        "colab_type": "code",
        "colab": {}
      },
      "source": [
        "features_set = np.reshape(features_set, (features_set.shape[0], features_set.shape[1], 1))"
      ],
      "execution_count": null,
      "outputs": []
    },
    {
      "cell_type": "markdown",
      "metadata": {
        "id": "nBisFx35XHUu",
        "colab_type": "text"
      },
      "source": [
        "Installing Tensorflow and Keras library"
      ]
    },
    {
      "cell_type": "code",
      "metadata": {
        "id": "BdfTh1btghec",
        "colab_type": "code",
        "colab": {
          "base_uri": "https://localhost:8080/",
          "height": 802
        },
        "outputId": "bfc66500-ff50-4a8e-9606-3f53a63af2f1"
      },
      "source": [
        "!pip install tensorflow\n",
        "!pip install keras"
      ],
      "execution_count": null,
      "outputs": [
        {
          "output_type": "stream",
          "text": [
            "Requirement already satisfied: tensorflow in /usr/local/lib/python3.6/dist-packages (2.2.0)\n",
            "Requirement already satisfied: keras-preprocessing>=1.1.0 in /usr/local/lib/python3.6/dist-packages (from tensorflow) (1.1.2)\n",
            "Requirement already satisfied: gast==0.3.3 in /usr/local/lib/python3.6/dist-packages (from tensorflow) (0.3.3)\n",
            "Requirement already satisfied: scipy==1.4.1; python_version >= \"3\" in /usr/local/lib/python3.6/dist-packages (from tensorflow) (1.4.1)\n",
            "Requirement already satisfied: google-pasta>=0.1.8 in /usr/local/lib/python3.6/dist-packages (from tensorflow) (0.2.0)\n",
            "Requirement already satisfied: absl-py>=0.7.0 in /usr/local/lib/python3.6/dist-packages (from tensorflow) (0.9.0)\n",
            "Requirement already satisfied: opt-einsum>=2.3.2 in /usr/local/lib/python3.6/dist-packages (from tensorflow) (3.2.1)\n",
            "Requirement already satisfied: grpcio>=1.8.6 in /usr/local/lib/python3.6/dist-packages (from tensorflow) (1.30.0)\n",
            "Requirement already satisfied: astunparse==1.6.3 in /usr/local/lib/python3.6/dist-packages (from tensorflow) (1.6.3)\n",
            "Requirement already satisfied: tensorflow-estimator<2.3.0,>=2.2.0 in /usr/local/lib/python3.6/dist-packages (from tensorflow) (2.2.0)\n",
            "Requirement already satisfied: wrapt>=1.11.1 in /usr/local/lib/python3.6/dist-packages (from tensorflow) (1.12.1)\n",
            "Requirement already satisfied: six>=1.12.0 in /usr/local/lib/python3.6/dist-packages (from tensorflow) (1.12.0)\n",
            "Requirement already satisfied: protobuf>=3.8.0 in /usr/local/lib/python3.6/dist-packages (from tensorflow) (3.10.0)\n",
            "Requirement already satisfied: wheel>=0.26; python_version >= \"3\" in /usr/local/lib/python3.6/dist-packages (from tensorflow) (0.34.2)\n",
            "Requirement already satisfied: h5py<2.11.0,>=2.10.0 in /usr/local/lib/python3.6/dist-packages (from tensorflow) (2.10.0)\n",
            "Requirement already satisfied: numpy<2.0,>=1.16.0 in /usr/local/lib/python3.6/dist-packages (from tensorflow) (1.18.5)\n",
            "Requirement already satisfied: tensorboard<2.3.0,>=2.2.0 in /usr/local/lib/python3.6/dist-packages (from tensorflow) (2.2.2)\n",
            "Requirement already satisfied: termcolor>=1.1.0 in /usr/local/lib/python3.6/dist-packages (from tensorflow) (1.1.0)\n",
            "Requirement already satisfied: setuptools in /usr/local/lib/python3.6/dist-packages (from protobuf>=3.8.0->tensorflow) (47.3.1)\n",
            "Requirement already satisfied: tensorboard-plugin-wit>=1.6.0 in /usr/local/lib/python3.6/dist-packages (from tensorboard<2.3.0,>=2.2.0->tensorflow) (1.6.0.post3)\n",
            "Requirement already satisfied: requests<3,>=2.21.0 in /usr/local/lib/python3.6/dist-packages (from tensorboard<2.3.0,>=2.2.0->tensorflow) (2.23.0)\n",
            "Requirement already satisfied: google-auth<2,>=1.6.3 in /usr/local/lib/python3.6/dist-packages (from tensorboard<2.3.0,>=2.2.0->tensorflow) (1.17.2)\n",
            "Requirement already satisfied: markdown>=2.6.8 in /usr/local/lib/python3.6/dist-packages (from tensorboard<2.3.0,>=2.2.0->tensorflow) (3.2.2)\n",
            "Requirement already satisfied: werkzeug>=0.11.15 in /usr/local/lib/python3.6/dist-packages (from tensorboard<2.3.0,>=2.2.0->tensorflow) (1.0.1)\n",
            "Requirement already satisfied: google-auth-oauthlib<0.5,>=0.4.1 in /usr/local/lib/python3.6/dist-packages (from tensorboard<2.3.0,>=2.2.0->tensorflow) (0.4.1)\n",
            "Requirement already satisfied: chardet<4,>=3.0.2 in /usr/local/lib/python3.6/dist-packages (from requests<3,>=2.21.0->tensorboard<2.3.0,>=2.2.0->tensorflow) (3.0.4)\n",
            "Requirement already satisfied: certifi>=2017.4.17 in /usr/local/lib/python3.6/dist-packages (from requests<3,>=2.21.0->tensorboard<2.3.0,>=2.2.0->tensorflow) (2020.6.20)\n",
            "Requirement already satisfied: urllib3!=1.25.0,!=1.25.1,<1.26,>=1.21.1 in /usr/local/lib/python3.6/dist-packages (from requests<3,>=2.21.0->tensorboard<2.3.0,>=2.2.0->tensorflow) (1.24.3)\n",
            "Requirement already satisfied: idna<3,>=2.5 in /usr/local/lib/python3.6/dist-packages (from requests<3,>=2.21.0->tensorboard<2.3.0,>=2.2.0->tensorflow) (2.9)\n",
            "Requirement already satisfied: pyasn1-modules>=0.2.1 in /usr/local/lib/python3.6/dist-packages (from google-auth<2,>=1.6.3->tensorboard<2.3.0,>=2.2.0->tensorflow) (0.2.8)\n",
            "Requirement already satisfied: cachetools<5.0,>=2.0.0 in /usr/local/lib/python3.6/dist-packages (from google-auth<2,>=1.6.3->tensorboard<2.3.0,>=2.2.0->tensorflow) (4.1.0)\n",
            "Requirement already satisfied: rsa<5,>=3.1.4; python_version >= \"3\" in /usr/local/lib/python3.6/dist-packages (from google-auth<2,>=1.6.3->tensorboard<2.3.0,>=2.2.0->tensorflow) (4.6)\n",
            "Requirement already satisfied: importlib-metadata; python_version < \"3.8\" in /usr/local/lib/python3.6/dist-packages (from markdown>=2.6.8->tensorboard<2.3.0,>=2.2.0->tensorflow) (1.6.1)\n",
            "Requirement already satisfied: requests-oauthlib>=0.7.0 in /usr/local/lib/python3.6/dist-packages (from google-auth-oauthlib<0.5,>=0.4.1->tensorboard<2.3.0,>=2.2.0->tensorflow) (1.3.0)\n",
            "Requirement already satisfied: pyasn1<0.5.0,>=0.4.6 in /usr/local/lib/python3.6/dist-packages (from pyasn1-modules>=0.2.1->google-auth<2,>=1.6.3->tensorboard<2.3.0,>=2.2.0->tensorflow) (0.4.8)\n",
            "Requirement already satisfied: zipp>=0.5 in /usr/local/lib/python3.6/dist-packages (from importlib-metadata; python_version < \"3.8\"->markdown>=2.6.8->tensorboard<2.3.0,>=2.2.0->tensorflow) (3.1.0)\n",
            "Requirement already satisfied: oauthlib>=3.0.0 in /usr/local/lib/python3.6/dist-packages (from requests-oauthlib>=0.7.0->google-auth-oauthlib<0.5,>=0.4.1->tensorboard<2.3.0,>=2.2.0->tensorflow) (3.1.0)\n",
            "Requirement already satisfied: keras in /usr/local/lib/python3.6/dist-packages (2.3.1)\n",
            "Requirement already satisfied: keras-preprocessing>=1.0.5 in /usr/local/lib/python3.6/dist-packages (from keras) (1.1.2)\n",
            "Requirement already satisfied: h5py in /usr/local/lib/python3.6/dist-packages (from keras) (2.10.0)\n",
            "Requirement already satisfied: scipy>=0.14 in /usr/local/lib/python3.6/dist-packages (from keras) (1.4.1)\n",
            "Requirement already satisfied: six>=1.9.0 in /usr/local/lib/python3.6/dist-packages (from keras) (1.12.0)\n",
            "Requirement already satisfied: pyyaml in /usr/local/lib/python3.6/dist-packages (from keras) (3.13)\n",
            "Requirement already satisfied: keras-applications>=1.0.6 in /usr/local/lib/python3.6/dist-packages (from keras) (1.0.8)\n",
            "Requirement already satisfied: numpy>=1.9.1 in /usr/local/lib/python3.6/dist-packages (from keras) (1.18.5)\n"
          ],
          "name": "stdout"
        }
      ]
    },
    {
      "cell_type": "markdown",
      "metadata": {
        "id": "o1--ygmcXXw_",
        "colab_type": "text"
      },
      "source": [
        "We import the Sequential class from keras.models library and Dense, LSTM, and Dropout classes from keras.layers library."
      ]
    },
    {
      "cell_type": "code",
      "metadata": {
        "id": "n4SM-VTIgxvs",
        "colab_type": "code",
        "colab": {}
      },
      "source": [
        "from keras.models import Sequential\n",
        "from keras.layers import Dense\n",
        "from keras.layers import LSTM\n",
        "from keras.layers import Dropout"
      ],
      "execution_count": null,
      "outputs": []
    },
    {
      "cell_type": "markdown",
      "metadata": {
        "id": "HcMpKuenXkKS",
        "colab_type": "text"
      },
      "source": [
        "We instantiate the Sequential class. This will be our model class and we will add LSTM, Dropout and Dense layers to this model. "
      ]
    },
    {
      "cell_type": "code",
      "metadata": {
        "id": "GECIcqYwmJ3O",
        "colab_type": "code",
        "colab": {}
      },
      "source": [
        "model = Sequential()"
      ],
      "execution_count": null,
      "outputs": []
    },
    {
      "cell_type": "code",
      "metadata": {
        "id": "8vioZ4bxhCUl",
        "colab_type": "code",
        "colab": {}
      },
      "source": [
        "model.add(LSTM(units=50, return_sequences=True, input_shape=(features_set.shape[1], 1)))"
      ],
      "execution_count": null,
      "outputs": []
    },
    {
      "cell_type": "code",
      "metadata": {
        "id": "LGYP7CnfhLPQ",
        "colab_type": "code",
        "colab": {}
      },
      "source": [
        "model.add(Dropout(0.2))"
      ],
      "execution_count": null,
      "outputs": []
    },
    {
      "cell_type": "code",
      "metadata": {
        "id": "3BP-STSAhR9X",
        "colab_type": "code",
        "colab": {}
      },
      "source": [
        "model.add(LSTM(units=50, return_sequences=True))\n",
        "model.add(Dropout(0.2))\n",
        "\n",
        "model.add(LSTM(units=50, return_sequences=True))\n",
        "model.add(Dropout(0.2))\n",
        "\n",
        "model.add(LSTM(units=50))\n",
        "model.add(Dropout(0.2))"
      ],
      "execution_count": null,
      "outputs": []
    },
    {
      "cell_type": "code",
      "metadata": {
        "id": "3EQmMarfmX_g",
        "colab_type": "code",
        "colab": {}
      },
      "source": [
        "model.add(Dense(units = 1))"
      ],
      "execution_count": null,
      "outputs": []
    },
    {
      "cell_type": "markdown",
      "metadata": {
        "id": "lCRF6ZHyXuQK",
        "colab_type": "text"
      },
      "source": [
        "Finally, we need to compile our LSTM before we can train it on the training data."
      ]
    },
    {
      "cell_type": "code",
      "metadata": {
        "id": "j482jVn-mmYi",
        "colab_type": "code",
        "colab": {}
      },
      "source": [
        "model.compile(optimizer = 'adam', loss = 'mean_squared_error')\n"
      ],
      "execution_count": null,
      "outputs": []
    },
    {
      "cell_type": "markdown",
      "metadata": {
        "id": "ETCzGQSwXzNo",
        "colab_type": "text"
      },
      "source": [
        "Model Training"
      ]
    },
    {
      "cell_type": "code",
      "metadata": {
        "id": "BjyQAFBPhoCq",
        "colab_type": "code",
        "colab": {
          "base_uri": "https://localhost:8080/",
          "height": 1000
        },
        "outputId": "88615376-b0e9-4ed0-9446-73e813591c28"
      },
      "source": [
        "model.fit(features_set, labels, epochs = 100, batch_size = 32)"
      ],
      "execution_count": null,
      "outputs": [
        {
          "output_type": "stream",
          "text": [
            "1197/1197 [==============================] - 5s 5ms/step - loss: 0.0022\n",
            "Epoch 10/100\n",
            "1197/1197 [==============================] - 6s 5ms/step - loss: 0.0023\n",
            "Epoch 11/100\n",
            "1197/1197 [==============================] - 5s 5ms/step - loss: 0.0023\n",
            "Epoch 12/100\n",
            "1197/1197 [==============================] - 5s 5ms/step - loss: 0.0022\n",
            "Epoch 13/100\n",
            "1197/1197 [==============================] - 5s 5ms/step - loss: 0.0021\n",
            "Epoch 14/100\n",
            "1197/1197 [==============================] - 5s 4ms/step - loss: 0.0020\n",
            "Epoch 15/100\n",
            "1197/1197 [==============================] - 5s 4ms/step - loss: 0.0019\n",
            "Epoch 16/100\n",
            "1197/1197 [==============================] - 6s 5ms/step - loss: 0.0021\n",
            "Epoch 17/100\n",
            "1197/1197 [==============================] - 5s 5ms/step - loss: 0.0021\n",
            "Epoch 18/100\n",
            "1197/1197 [==============================] - 5s 5ms/step - loss: 0.0017\n",
            "Epoch 19/100\n",
            "1197/1197 [==============================] - 5s 5ms/step - loss: 0.0018\n",
            "Epoch 20/100\n",
            "1197/1197 [==============================] - 6s 5ms/step - loss: 0.0017\n",
            "Epoch 21/100\n",
            "1197/1197 [==============================] - 6s 5ms/step - loss: 0.0022\n",
            "Epoch 22/100\n",
            "1197/1197 [==============================] - 5s 5ms/step - loss: 0.0016\n",
            "Epoch 23/100\n",
            "1197/1197 [==============================] - 5s 5ms/step - loss: 0.0018\n",
            "Epoch 24/100\n",
            "1197/1197 [==============================] - 6s 5ms/step - loss: 0.0016\n",
            "Epoch 25/100\n",
            "1197/1197 [==============================] - 6s 5ms/step - loss: 0.0015\n",
            "Epoch 26/100\n",
            "1197/1197 [==============================] - 5s 5ms/step - loss: 0.0015\n",
            "Epoch 27/100\n",
            "1197/1197 [==============================] - 6s 5ms/step - loss: 0.0014\n",
            "Epoch 28/100\n",
            "1197/1197 [==============================] - 5s 5ms/step - loss: 0.0016\n",
            "Epoch 29/100\n",
            "1197/1197 [==============================] - 5s 5ms/step - loss: 0.0014\n",
            "Epoch 30/100\n",
            "1197/1197 [==============================] - 6s 5ms/step - loss: 0.0014\n",
            "Epoch 31/100\n",
            "1197/1197 [==============================] - 5s 5ms/step - loss: 0.0014\n",
            "Epoch 32/100\n",
            "1197/1197 [==============================] - 5s 5ms/step - loss: 0.0013\n",
            "Epoch 33/100\n",
            "1197/1197 [==============================] - 5s 5ms/step - loss: 0.0014\n",
            "Epoch 34/100\n",
            "1197/1197 [==============================] - 5s 5ms/step - loss: 0.0012\n",
            "Epoch 35/100\n",
            "1197/1197 [==============================] - 6s 5ms/step - loss: 0.0015\n",
            "Epoch 36/100\n",
            "1197/1197 [==============================] - 6s 5ms/step - loss: 0.0012\n",
            "Epoch 37/100\n",
            "1197/1197 [==============================] - 5s 5ms/step - loss: 0.0012\n",
            "Epoch 38/100\n",
            "1197/1197 [==============================] - 5s 5ms/step - loss: 0.0013\n",
            "Epoch 39/100\n",
            "1197/1197 [==============================] - 5s 4ms/step - loss: 0.0013\n",
            "Epoch 40/100\n",
            "1197/1197 [==============================] - 5s 5ms/step - loss: 0.0012\n",
            "Epoch 41/100\n",
            "1197/1197 [==============================] - 5s 5ms/step - loss: 0.0012\n",
            "Epoch 42/100\n",
            "1197/1197 [==============================] - 6s 5ms/step - loss: 0.0011\n",
            "Epoch 43/100\n",
            "1197/1197 [==============================] - 6s 5ms/step - loss: 0.0013\n",
            "Epoch 44/100\n",
            "1197/1197 [==============================] - 5s 5ms/step - loss: 0.0010\n",
            "Epoch 45/100\n",
            "1197/1197 [==============================] - 5s 5ms/step - loss: 0.0011\n",
            "Epoch 46/100\n",
            "1197/1197 [==============================] - 5s 5ms/step - loss: 0.0011\n",
            "Epoch 47/100\n",
            "1197/1197 [==============================] - 5s 4ms/step - loss: 0.0011\n",
            "Epoch 48/100\n",
            "1197/1197 [==============================] - 5s 5ms/step - loss: 0.0011\n",
            "Epoch 49/100\n",
            "1197/1197 [==============================] - 6s 5ms/step - loss: 0.0010\n",
            "Epoch 50/100\n",
            "1197/1197 [==============================] - 5s 5ms/step - loss: 0.0011\n",
            "Epoch 51/100\n",
            "1197/1197 [==============================] - 5s 5ms/step - loss: 0.0010\n",
            "Epoch 52/100\n",
            "1197/1197 [==============================] - 6s 5ms/step - loss: 0.0011\n",
            "Epoch 53/100\n",
            "1197/1197 [==============================] - 6s 5ms/step - loss: 0.0012\n",
            "Epoch 54/100\n",
            "1197/1197 [==============================] - 6s 5ms/step - loss: 0.0011\n",
            "Epoch 55/100\n",
            "1197/1197 [==============================] - 6s 5ms/step - loss: 0.0010\n",
            "Epoch 56/100\n",
            "1197/1197 [==============================] - 6s 5ms/step - loss: 9.1168e-04\n",
            "Epoch 57/100\n",
            "1197/1197 [==============================] - 6s 5ms/step - loss: 9.2698e-04\n",
            "Epoch 58/100\n",
            "1197/1197 [==============================] - 6s 5ms/step - loss: 0.0011\n",
            "Epoch 59/100\n",
            "1197/1197 [==============================] - 6s 5ms/step - loss: 0.0010\n",
            "Epoch 60/100\n",
            "1197/1197 [==============================] - 6s 5ms/step - loss: 0.0010\n",
            "Epoch 61/100\n",
            "1197/1197 [==============================] - 6s 5ms/step - loss: 9.7288e-04\n",
            "Epoch 62/100\n",
            "1197/1197 [==============================] - 6s 5ms/step - loss: 8.4347e-04\n",
            "Epoch 63/100\n",
            "1197/1197 [==============================] - 6s 5ms/step - loss: 9.3721e-04\n",
            "Epoch 64/100\n",
            "1197/1197 [==============================] - 6s 5ms/step - loss: 9.4751e-04\n",
            "Epoch 65/100\n",
            "1197/1197 [==============================] - 6s 5ms/step - loss: 9.2519e-04\n",
            "Epoch 66/100\n",
            "1197/1197 [==============================] - 6s 5ms/step - loss: 9.0625e-04\n",
            "Epoch 67/100\n",
            "1197/1197 [==============================] - 6s 5ms/step - loss: 9.4694e-04\n",
            "Epoch 68/100\n",
            "1197/1197 [==============================] - 6s 5ms/step - loss: 7.7399e-04\n",
            "Epoch 69/100\n",
            "1197/1197 [==============================] - 6s 5ms/step - loss: 8.6892e-04\n",
            "Epoch 70/100\n",
            "1197/1197 [==============================] - 6s 5ms/step - loss: 0.0013\n",
            "Epoch 71/100\n",
            "1197/1197 [==============================] - 6s 5ms/step - loss: 9.4944e-04\n",
            "Epoch 72/100\n",
            "1197/1197 [==============================] - 6s 5ms/step - loss: 0.0010\n",
            "Epoch 73/100\n",
            "1197/1197 [==============================] - 6s 5ms/step - loss: 8.1584e-04\n",
            "Epoch 74/100\n",
            "1197/1197 [==============================] - 6s 5ms/step - loss: 9.1639e-04\n",
            "Epoch 75/100\n",
            "1197/1197 [==============================] - 6s 5ms/step - loss: 8.2944e-04\n",
            "Epoch 76/100\n",
            "1197/1197 [==============================] - 6s 5ms/step - loss: 0.0010\n",
            "Epoch 77/100\n",
            "1197/1197 [==============================] - 6s 5ms/step - loss: 9.1630e-04\n",
            "Epoch 78/100\n",
            "1197/1197 [==============================] - 6s 5ms/step - loss: 9.3122e-04\n",
            "Epoch 79/100\n",
            "1197/1197 [==============================] - 6s 5ms/step - loss: 8.9741e-04\n",
            "Epoch 80/100\n",
            "1197/1197 [==============================] - 6s 5ms/step - loss: 8.7831e-04\n",
            "Epoch 81/100\n",
            "1197/1197 [==============================] - 6s 5ms/step - loss: 8.4523e-04\n",
            "Epoch 82/100\n",
            "1197/1197 [==============================] - 6s 5ms/step - loss: 8.2556e-04\n",
            "Epoch 83/100\n",
            "1197/1197 [==============================] - 6s 5ms/step - loss: 8.1868e-04\n",
            "Epoch 84/100\n",
            "1197/1197 [==============================] - 6s 5ms/step - loss: 8.5508e-04\n",
            "Epoch 85/100\n",
            "1197/1197 [==============================] - 6s 5ms/step - loss: 9.7504e-04\n",
            "Epoch 86/100\n",
            "1197/1197 [==============================] - 6s 5ms/step - loss: 7.9391e-04\n",
            "Epoch 87/100\n",
            "1197/1197 [==============================] - 6s 5ms/step - loss: 8.7616e-04\n",
            "Epoch 88/100\n",
            "1197/1197 [==============================] - 6s 5ms/step - loss: 9.9160e-04\n",
            "Epoch 89/100\n",
            "1197/1197 [==============================] - 6s 5ms/step - loss: 8.2614e-04\n",
            "Epoch 90/100\n",
            "1197/1197 [==============================] - 6s 5ms/step - loss: 7.9001e-04\n",
            "Epoch 91/100\n",
            "1197/1197 [==============================] - 6s 5ms/step - loss: 8.5659e-04\n",
            "Epoch 92/100\n",
            "1197/1197 [==============================] - 6s 5ms/step - loss: 8.6912e-04\n",
            "Epoch 93/100\n",
            "1197/1197 [==============================] - 6s 5ms/step - loss: 9.5283e-04\n",
            "Epoch 94/100\n",
            "1197/1197 [==============================] - 6s 5ms/step - loss: 8.0266e-04\n",
            "Epoch 95/100\n",
            "1197/1197 [==============================] - 6s 5ms/step - loss: 7.3174e-04\n",
            "Epoch 96/100\n",
            "1197/1197 [==============================] - 6s 5ms/step - loss: 8.7382e-04\n",
            "Epoch 97/100\n",
            "1197/1197 [==============================] - 6s 5ms/step - loss: 7.5717e-04\n",
            "Epoch 98/100\n",
            "1197/1197 [==============================] - 6s 5ms/step - loss: 8.0424e-04\n",
            "Epoch 99/100\n",
            "1197/1197 [==============================] - 6s 5ms/step - loss: 7.5345e-04\n",
            "Epoch 100/100\n",
            "1197/1197 [==============================] - 6s 5ms/step - loss: 7.8891e-04\n"
          ],
          "name": "stdout"
        },
        {
          "output_type": "execute_result",
          "data": {
            "text/plain": [
              "<keras.callbacks.callbacks.History at 0x7f52b44b6278>"
            ]
          },
          "metadata": {
            "tags": []
          },
          "execution_count": 32
        }
      ]
    },
    {
      "cell_type": "markdown",
      "metadata": {
        "id": "QySiSRYFZ2pL",
        "colab_type": "text"
      },
      "source": [
        "We take the details of january 2020 for the testing purpose"
      ]
    },
    {
      "cell_type": "code",
      "metadata": {
        "id": "31d19egyq2ez",
        "colab_type": "code",
        "colab": {}
      },
      "source": [
        "apple_testing_complete = pd.read_csv('AAPL-4.csv')\n",
        "apple_testing_processed = apple_testing_complete.iloc[:, 1:2].values\n"
      ],
      "execution_count": null,
      "outputs": []
    },
    {
      "cell_type": "markdown",
      "metadata": {
        "id": "vK39axgoaDtt",
        "colab_type": "text"
      },
      "source": [
        "Converting Test Data to Right Format"
      ]
    },
    {
      "cell_type": "code",
      "metadata": {
        "id": "tvKx7jeqrBk2",
        "colab_type": "code",
        "colab": {}
      },
      "source": [
        "apple_total = pd.concat((apple_complete_train['Open'], apple_testing_complete['Open']), axis=0)"
      ],
      "execution_count": null,
      "outputs": []
    },
    {
      "cell_type": "markdown",
      "metadata": {
        "id": "5ckDbuA2aFCc",
        "colab_type": "text"
      },
      "source": [
        ""
      ]
    },
    {
      "cell_type": "code",
      "metadata": {
        "id": "owJ1algirKJ2",
        "colab_type": "code",
        "colab": {}
      },
      "source": [
        "test_inputs = apple_total[len(apple_total) - len(apple_testing_complete) - 60:].values"
      ],
      "execution_count": null,
      "outputs": []
    },
    {
      "cell_type": "markdown",
      "metadata": {
        "id": "ih0miffhaMTD",
        "colab_type": "text"
      },
      "source": [
        "As we did for the training set, we need to scale our test data. "
      ]
    },
    {
      "cell_type": "code",
      "metadata": {
        "id": "PJcfVpQprW0e",
        "colab_type": "code",
        "colab": {}
      },
      "source": [
        "test_inputs = test_inputs.reshape(-1,1)\n",
        "test_inputs = scaler.transform(test_inputs)"
      ],
      "execution_count": null,
      "outputs": []
    },
    {
      "cell_type": "code",
      "metadata": {
        "id": "HJoNV6h6rgZG",
        "colab_type": "code",
        "colab": {}
      },
      "source": [
        "test_features = []\n",
        "for i in range(60, 80):\n",
        "    test_features.append(test_inputs[i-60:i, 0])"
      ],
      "execution_count": null,
      "outputs": []
    },
    {
      "cell_type": "markdown",
      "metadata": {
        "id": "YQi5y2sFae58",
        "colab_type": "text"
      },
      "source": [
        "Finally, we need to convert our data into the three-dimensional format which can be used as input to the LSTM."
      ]
    },
    {
      "cell_type": "code",
      "metadata": {
        "id": "gXNoevR9rqvM",
        "colab_type": "code",
        "colab": {}
      },
      "source": [
        "test_features = np.array(test_features)\n",
        "test_features = np.reshape(test_features, (test_features.shape[0], test_features.shape[1], 1))"
      ],
      "execution_count": null,
      "outputs": []
    },
    {
      "cell_type": "markdown",
      "metadata": {
        "id": "QNeceXF7agq4",
        "colab_type": "text"
      },
      "source": [
        "Making predictions"
      ]
    },
    {
      "cell_type": "code",
      "metadata": {
        "id": "RCcFiG3Jr4TF",
        "colab_type": "code",
        "colab": {}
      },
      "source": [
        "predictions = model.predict(test_features)"
      ],
      "execution_count": null,
      "outputs": []
    },
    {
      "cell_type": "markdown",
      "metadata": {
        "id": "KlwuUvRFZnuS",
        "colab_type": "text"
      },
      "source": [
        "Since we scaled our data, the predictions made by the LSTM are also scaled. We need to reverse the scaled prediction back to their actual values. To do so, we can use the ìnverse_transform method of the scaler object we created during training."
      ]
    },
    {
      "cell_type": "code",
      "metadata": {
        "id": "CM0jInRhsCBR",
        "colab_type": "code",
        "colab": {}
      },
      "source": [
        "predictions = scaler.inverse_transform(predictions)"
      ],
      "execution_count": null,
      "outputs": []
    },
    {
      "cell_type": "markdown",
      "metadata": {
        "id": "DS8XmvsTZpQG",
        "colab_type": "text"
      },
      "source": [
        "The prediction of future stock prices"
      ]
    },
    {
      "cell_type": "code",
      "metadata": {
        "id": "AP6vAlHZZEgf",
        "colab_type": "code",
        "colab": {
          "base_uri": "https://localhost:8080/",
          "height": 404
        },
        "outputId": "30eaed96-929d-478c-baa5-ce3c393e8f1b"
      },
      "source": [
        "plt.figure(figsize=(10,6))\n",
        "plt.plot(apple_testing_processed, color='blue', label='Actual Apple Stock Price')\n",
        "plt.plot(predictions , color='red', label='Predicted Apple Stock Price')\n",
        "plt.title('Apple Stock Price Prediction')\n",
        "plt.xlabel('Date')\n",
        "plt.ylabel('Apple Stock Price')\n",
        "plt.legend()\n",
        "plt.show()"
      ],
      "execution_count": null,
      "outputs": [
        {
          "output_type": "display_data",
          "data": {
            "image/png": "[encoded data removed]",
            "text/plain": [
              "<Figure size 720x432 with 1 Axes>"
            ]
          },
          "metadata": {
            "tags": [],
            "needs_background": "light"
          }
        }
      ]
    },
    {
      "cell_type": "markdown",
      "metadata": {
        "id": "PsAEOyqjsxQY",
        "colab_type": "text"
      },
      "source": [
        "In the output, the blue line represents the actual stock prices for the month of January 2020, while the red line represents the predicted stock prices. \n",
        "A long short-term memory network (LSTM) is one of the most commonly used neural networks for time series analysis. The ability of LSTM to remember previous information makes it ideal for such tasks."
      ]
    }
  ]
}